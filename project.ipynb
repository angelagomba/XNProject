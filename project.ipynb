{
 "cells": [
  {
   "cell_type": "markdown",
   "metadata": {},
   "source": [
    "# MATH 4570 Project\n"
   ]
  },
  {
   "cell_type": "code",
   "execution_count": 29,
   "metadata": {},
   "outputs": [],
   "source": [
    "import pandas as pd\n",
    "import numpy as np\n",
    "from matplotlib import pyplot as plt\n",
    "import matplotlib as mpl\n",
    "\n",
    "from glob import glob"
   ]
  },
  {
   "cell_type": "markdown",
   "metadata": {},
   "source": [
    "## Data Preparation"
   ]
  },
  {
   "cell_type": "code",
   "execution_count": 30,
   "metadata": {},
   "outputs": [
    {
     "data": {
      "text/html": [
       "<div>\n",
       "<style scoped>\n",
       "    .dataframe tbody tr th:only-of-type {\n",
       "        vertical-align: middle;\n",
       "    }\n",
       "\n",
       "    .dataframe tbody tr th {\n",
       "        vertical-align: top;\n",
       "    }\n",
       "\n",
       "    .dataframe thead th {\n",
       "        text-align: right;\n",
       "    }\n",
       "</style>\n",
       "<table border=\"1\" class=\"dataframe\">\n",
       "  <thead>\n",
       "    <tr style=\"text-align: right;\">\n",
       "      <th></th>\n",
       "      <th>Image</th>\n",
       "      <th>any</th>\n",
       "      <th>epidural</th>\n",
       "      <th>intraparenchymal</th>\n",
       "      <th>intraventricular</th>\n",
       "      <th>subarachnoid</th>\n",
       "      <th>subdural</th>\n",
       "    </tr>\n",
       "  </thead>\n",
       "  <tbody>\n",
       "    <tr>\n",
       "      <th>0</th>\n",
       "      <td>ID_000012eaf</td>\n",
       "      <td>0</td>\n",
       "      <td>0</td>\n",
       "      <td>0</td>\n",
       "      <td>0</td>\n",
       "      <td>0</td>\n",
       "      <td>0</td>\n",
       "    </tr>\n",
       "    <tr>\n",
       "      <th>1</th>\n",
       "      <td>ID_000039fa0</td>\n",
       "      <td>0</td>\n",
       "      <td>0</td>\n",
       "      <td>0</td>\n",
       "      <td>0</td>\n",
       "      <td>0</td>\n",
       "      <td>0</td>\n",
       "    </tr>\n",
       "    <tr>\n",
       "      <th>2</th>\n",
       "      <td>ID_00005679d</td>\n",
       "      <td>0</td>\n",
       "      <td>0</td>\n",
       "      <td>0</td>\n",
       "      <td>0</td>\n",
       "      <td>0</td>\n",
       "      <td>0</td>\n",
       "    </tr>\n",
       "    <tr>\n",
       "      <th>3</th>\n",
       "      <td>ID_00008ce3c</td>\n",
       "      <td>0</td>\n",
       "      <td>0</td>\n",
       "      <td>0</td>\n",
       "      <td>0</td>\n",
       "      <td>0</td>\n",
       "      <td>0</td>\n",
       "    </tr>\n",
       "    <tr>\n",
       "      <th>4</th>\n",
       "      <td>ID_0000950d7</td>\n",
       "      <td>0</td>\n",
       "      <td>0</td>\n",
       "      <td>0</td>\n",
       "      <td>0</td>\n",
       "      <td>0</td>\n",
       "      <td>0</td>\n",
       "    </tr>\n",
       "    <tr>\n",
       "      <th>...</th>\n",
       "      <td>...</td>\n",
       "      <td>...</td>\n",
       "      <td>...</td>\n",
       "      <td>...</td>\n",
       "      <td>...</td>\n",
       "      <td>...</td>\n",
       "      <td>...</td>\n",
       "    </tr>\n",
       "    <tr>\n",
       "      <th>752755</th>\n",
       "      <td>ID_fffc60817</td>\n",
       "      <td>1</td>\n",
       "      <td>0</td>\n",
       "      <td>1</td>\n",
       "      <td>1</td>\n",
       "      <td>0</td>\n",
       "      <td>0</td>\n",
       "    </tr>\n",
       "    <tr>\n",
       "      <th>752769</th>\n",
       "      <td>ID_fffd00949</td>\n",
       "      <td>1</td>\n",
       "      <td>0</td>\n",
       "      <td>0</td>\n",
       "      <td>0</td>\n",
       "      <td>1</td>\n",
       "      <td>0</td>\n",
       "    </tr>\n",
       "    <tr>\n",
       "      <th>752783</th>\n",
       "      <td>ID_fffe2edb8</td>\n",
       "      <td>1</td>\n",
       "      <td>0</td>\n",
       "      <td>1</td>\n",
       "      <td>1</td>\n",
       "      <td>0</td>\n",
       "      <td>0</td>\n",
       "    </tr>\n",
       "    <tr>\n",
       "      <th>752799</th>\n",
       "      <td>ID_ffff922b9</td>\n",
       "      <td>1</td>\n",
       "      <td>0</td>\n",
       "      <td>0</td>\n",
       "      <td>1</td>\n",
       "      <td>0</td>\n",
       "      <td>0</td>\n",
       "    </tr>\n",
       "    <tr>\n",
       "      <th>752800</th>\n",
       "      <td>ID_ffffb670a</td>\n",
       "      <td>1</td>\n",
       "      <td>0</td>\n",
       "      <td>0</td>\n",
       "      <td>0</td>\n",
       "      <td>1</td>\n",
       "      <td>0</td>\n",
       "    </tr>\n",
       "  </tbody>\n",
       "</table>\n",
       "<p>116532 rows × 7 columns</p>\n",
       "</div>"
      ],
      "text/plain": [
       "               Image  any  epidural  intraparenchymal  intraventricular  \\\n",
       "0       ID_000012eaf    0         0                 0                 0   \n",
       "1       ID_000039fa0    0         0                 0                 0   \n",
       "2       ID_00005679d    0         0                 0                 0   \n",
       "3       ID_00008ce3c    0         0                 0                 0   \n",
       "4       ID_0000950d7    0         0                 0                 0   \n",
       "...              ...  ...       ...               ...               ...   \n",
       "752755  ID_fffc60817    1         0                 1                 1   \n",
       "752769  ID_fffd00949    1         0                 0                 0   \n",
       "752783  ID_fffe2edb8    1         0                 1                 1   \n",
       "752799  ID_ffff922b9    1         0                 0                 1   \n",
       "752800  ID_ffffb670a    1         0                 0                 0   \n",
       "\n",
       "        subarachnoid  subdural  \n",
       "0                  0         0  \n",
       "1                  0         0  \n",
       "2                  0         0  \n",
       "3                  0         0  \n",
       "4                  0         0  \n",
       "...              ...       ...  \n",
       "752755             0         0  \n",
       "752769             1         0  \n",
       "752783             0         0  \n",
       "752799             0         0  \n",
       "752800             1         0  \n",
       "\n",
       "[116532 rows x 7 columns]"
      ]
     },
     "metadata": {},
     "output_type": "display_data"
    },
    {
     "data": {
      "text/html": [
       "<div>\n",
       "<style scoped>\n",
       "    .dataframe tbody tr th:only-of-type {\n",
       "        vertical-align: middle;\n",
       "    }\n",
       "\n",
       "    .dataframe tbody tr th {\n",
       "        vertical-align: top;\n",
       "    }\n",
       "\n",
       "    .dataframe thead th {\n",
       "        text-align: right;\n",
       "    }\n",
       "</style>\n",
       "<table border=\"1\" class=\"dataframe\">\n",
       "  <thead>\n",
       "    <tr style=\"text-align: right;\">\n",
       "      <th></th>\n",
       "      <th>Image</th>\n",
       "      <th>any</th>\n",
       "      <th>epidural</th>\n",
       "      <th>intraparenchymal</th>\n",
       "      <th>intraventricular</th>\n",
       "      <th>subarachnoid</th>\n",
       "      <th>subdural</th>\n",
       "    </tr>\n",
       "  </thead>\n",
       "  <tbody>\n",
       "    <tr>\n",
       "      <th>0</th>\n",
       "      <td>ID_000012eaf</td>\n",
       "      <td>0</td>\n",
       "      <td>0</td>\n",
       "      <td>0</td>\n",
       "      <td>0</td>\n",
       "      <td>0</td>\n",
       "      <td>0</td>\n",
       "    </tr>\n",
       "    <tr>\n",
       "      <th>1</th>\n",
       "      <td>ID_000039fa0</td>\n",
       "      <td>0</td>\n",
       "      <td>0</td>\n",
       "      <td>0</td>\n",
       "      <td>0</td>\n",
       "      <td>0</td>\n",
       "      <td>0</td>\n",
       "    </tr>\n",
       "    <tr>\n",
       "      <th>2</th>\n",
       "      <td>ID_00005679d</td>\n",
       "      <td>0</td>\n",
       "      <td>0</td>\n",
       "      <td>0</td>\n",
       "      <td>0</td>\n",
       "      <td>0</td>\n",
       "      <td>0</td>\n",
       "    </tr>\n",
       "    <tr>\n",
       "      <th>3</th>\n",
       "      <td>ID_00008ce3c</td>\n",
       "      <td>0</td>\n",
       "      <td>0</td>\n",
       "      <td>0</td>\n",
       "      <td>0</td>\n",
       "      <td>0</td>\n",
       "      <td>0</td>\n",
       "    </tr>\n",
       "    <tr>\n",
       "      <th>4</th>\n",
       "      <td>ID_0000950d7</td>\n",
       "      <td>0</td>\n",
       "      <td>0</td>\n",
       "      <td>0</td>\n",
       "      <td>0</td>\n",
       "      <td>0</td>\n",
       "      <td>0</td>\n",
       "    </tr>\n",
       "    <tr>\n",
       "      <th>...</th>\n",
       "      <td>...</td>\n",
       "      <td>...</td>\n",
       "      <td>...</td>\n",
       "      <td>...</td>\n",
       "      <td>...</td>\n",
       "      <td>...</td>\n",
       "      <td>...</td>\n",
       "    </tr>\n",
       "    <tr>\n",
       "      <th>752737</th>\n",
       "      <td>ID_fffaebafd</td>\n",
       "      <td>1</td>\n",
       "      <td>0</td>\n",
       "      <td>1</td>\n",
       "      <td>0</td>\n",
       "      <td>0</td>\n",
       "      <td>0</td>\n",
       "    </tr>\n",
       "    <tr>\n",
       "      <th>752740</th>\n",
       "      <td>ID_fffb16e96</td>\n",
       "      <td>1</td>\n",
       "      <td>0</td>\n",
       "      <td>0</td>\n",
       "      <td>0</td>\n",
       "      <td>0</td>\n",
       "      <td>1</td>\n",
       "    </tr>\n",
       "    <tr>\n",
       "      <th>752769</th>\n",
       "      <td>ID_fffd00949</td>\n",
       "      <td>1</td>\n",
       "      <td>0</td>\n",
       "      <td>0</td>\n",
       "      <td>0</td>\n",
       "      <td>1</td>\n",
       "      <td>0</td>\n",
       "    </tr>\n",
       "    <tr>\n",
       "      <th>752799</th>\n",
       "      <td>ID_ffff922b9</td>\n",
       "      <td>1</td>\n",
       "      <td>0</td>\n",
       "      <td>0</td>\n",
       "      <td>1</td>\n",
       "      <td>0</td>\n",
       "      <td>0</td>\n",
       "    </tr>\n",
       "    <tr>\n",
       "      <th>752800</th>\n",
       "      <td>ID_ffffb670a</td>\n",
       "      <td>1</td>\n",
       "      <td>0</td>\n",
       "      <td>0</td>\n",
       "      <td>0</td>\n",
       "      <td>1</td>\n",
       "      <td>0</td>\n",
       "    </tr>\n",
       "  </tbody>\n",
       "</table>\n",
       "<p>84458 rows × 7 columns</p>\n",
       "</div>"
      ],
      "text/plain": [
       "               Image  any  epidural  intraparenchymal  intraventricular  \\\n",
       "0       ID_000012eaf    0         0                 0                 0   \n",
       "1       ID_000039fa0    0         0                 0                 0   \n",
       "2       ID_00005679d    0         0                 0                 0   \n",
       "3       ID_00008ce3c    0         0                 0                 0   \n",
       "4       ID_0000950d7    0         0                 0                 0   \n",
       "...              ...  ...       ...               ...               ...   \n",
       "752737  ID_fffaebafd    1         0                 1                 0   \n",
       "752740  ID_fffb16e96    1         0                 0                 0   \n",
       "752769  ID_fffd00949    1         0                 0                 0   \n",
       "752799  ID_ffff922b9    1         0                 0                 1   \n",
       "752800  ID_ffffb670a    1         0                 0                 0   \n",
       "\n",
       "        subarachnoid  subdural  \n",
       "0                  0         0  \n",
       "1                  0         0  \n",
       "2                  0         0  \n",
       "3                  0         0  \n",
       "4                  0         0  \n",
       "...              ...       ...  \n",
       "752737             0         0  \n",
       "752740             0         1  \n",
       "752769             1         0  \n",
       "752799             0         0  \n",
       "752800             1         0  \n",
       "\n",
       "[84458 rows x 7 columns]"
      ]
     },
     "metadata": {},
     "output_type": "display_data"
    },
    {
     "data": {
      "text/html": [
       "<div>\n",
       "<style scoped>\n",
       "    .dataframe tbody tr th:only-of-type {\n",
       "        vertical-align: middle;\n",
       "    }\n",
       "\n",
       "    .dataframe tbody tr th {\n",
       "        vertical-align: top;\n",
       "    }\n",
       "\n",
       "    .dataframe thead th {\n",
       "        text-align: right;\n",
       "    }\n",
       "</style>\n",
       "<table border=\"1\" class=\"dataframe\">\n",
       "  <thead>\n",
       "    <tr style=\"text-align: right;\">\n",
       "      <th></th>\n",
       "      <th>Image</th>\n",
       "      <th>any</th>\n",
       "      <th>epidural</th>\n",
       "      <th>intraparenchymal</th>\n",
       "      <th>intraventricular</th>\n",
       "      <th>subarachnoid</th>\n",
       "      <th>subdural</th>\n",
       "    </tr>\n",
       "  </thead>\n",
       "  <tbody>\n",
       "    <tr>\n",
       "      <th>120900</th>\n",
       "      <td>ID_29167fe2d</td>\n",
       "      <td>1</td>\n",
       "      <td>0</td>\n",
       "      <td>0</td>\n",
       "      <td>0</td>\n",
       "      <td>0</td>\n",
       "      <td>1</td>\n",
       "    </tr>\n",
       "    <tr>\n",
       "      <th>295348</th>\n",
       "      <td>ID_642b8b0e2</td>\n",
       "      <td>1</td>\n",
       "      <td>0</td>\n",
       "      <td>0</td>\n",
       "      <td>0</td>\n",
       "      <td>1</td>\n",
       "      <td>0</td>\n",
       "    </tr>\n",
       "    <tr>\n",
       "      <th>204785</th>\n",
       "      <td>ID_4593898a9</td>\n",
       "      <td>1</td>\n",
       "      <td>0</td>\n",
       "      <td>0</td>\n",
       "      <td>0</td>\n",
       "      <td>0</td>\n",
       "      <td>1</td>\n",
       "    </tr>\n",
       "    <tr>\n",
       "      <th>726427</th>\n",
       "      <td>ID_f70771536</td>\n",
       "      <td>1</td>\n",
       "      <td>0</td>\n",
       "      <td>0</td>\n",
       "      <td>1</td>\n",
       "      <td>0</td>\n",
       "      <td>0</td>\n",
       "    </tr>\n",
       "    <tr>\n",
       "      <th>199255</th>\n",
       "      <td>ID_43abedac6</td>\n",
       "      <td>1</td>\n",
       "      <td>0</td>\n",
       "      <td>0</td>\n",
       "      <td>0</td>\n",
       "      <td>1</td>\n",
       "      <td>0</td>\n",
       "    </tr>\n",
       "    <tr>\n",
       "      <th>...</th>\n",
       "      <td>...</td>\n",
       "      <td>...</td>\n",
       "      <td>...</td>\n",
       "      <td>...</td>\n",
       "      <td>...</td>\n",
       "      <td>...</td>\n",
       "      <td>...</td>\n",
       "    </tr>\n",
       "    <tr>\n",
       "      <th>642952</th>\n",
       "      <td>ID_da856f276</td>\n",
       "      <td>1</td>\n",
       "      <td>0</td>\n",
       "      <td>0</td>\n",
       "      <td>0</td>\n",
       "      <td>1</td>\n",
       "      <td>0</td>\n",
       "    </tr>\n",
       "    <tr>\n",
       "      <th>648956</th>\n",
       "      <td>ID_dc89acbe4</td>\n",
       "      <td>1</td>\n",
       "      <td>0</td>\n",
       "      <td>1</td>\n",
       "      <td>0</td>\n",
       "      <td>0</td>\n",
       "      <td>0</td>\n",
       "    </tr>\n",
       "    <tr>\n",
       "      <th>541265</th>\n",
       "      <td>ID_b7b7929f7</td>\n",
       "      <td>1</td>\n",
       "      <td>1</td>\n",
       "      <td>0</td>\n",
       "      <td>0</td>\n",
       "      <td>0</td>\n",
       "      <td>0</td>\n",
       "    </tr>\n",
       "    <tr>\n",
       "      <th>27401</th>\n",
       "      <td>ID_094532ebd</td>\n",
       "      <td>1</td>\n",
       "      <td>0</td>\n",
       "      <td>0</td>\n",
       "      <td>0</td>\n",
       "      <td>1</td>\n",
       "      <td>0</td>\n",
       "    </tr>\n",
       "    <tr>\n",
       "      <th>263172</th>\n",
       "      <td>ID_59519d01d</td>\n",
       "      <td>1</td>\n",
       "      <td>0</td>\n",
       "      <td>0</td>\n",
       "      <td>0</td>\n",
       "      <td>1</td>\n",
       "      <td>0</td>\n",
       "    </tr>\n",
       "  </tbody>\n",
       "</table>\n",
       "<p>5000 rows × 7 columns</p>\n",
       "</div>"
      ],
      "text/plain": [
       "               Image  any  epidural  intraparenchymal  intraventricular  \\\n",
       "120900  ID_29167fe2d    1         0                 0                 0   \n",
       "295348  ID_642b8b0e2    1         0                 0                 0   \n",
       "204785  ID_4593898a9    1         0                 0                 0   \n",
       "726427  ID_f70771536    1         0                 0                 1   \n",
       "199255  ID_43abedac6    1         0                 0                 0   \n",
       "...              ...  ...       ...               ...               ...   \n",
       "642952  ID_da856f276    1         0                 0                 0   \n",
       "648956  ID_dc89acbe4    1         0                 1                 0   \n",
       "541265  ID_b7b7929f7    1         1                 0                 0   \n",
       "27401   ID_094532ebd    1         0                 0                 0   \n",
       "263172  ID_59519d01d    1         0                 0                 0   \n",
       "\n",
       "        subarachnoid  subdural  \n",
       "120900             0         1  \n",
       "295348             1         0  \n",
       "204785             0         1  \n",
       "726427             0         0  \n",
       "199255             1         0  \n",
       "...              ...       ...  \n",
       "642952             1         0  \n",
       "648956             0         0  \n",
       "541265             0         0  \n",
       "27401              1         0  \n",
       "263172             1         0  \n",
       "\n",
       "[5000 rows x 7 columns]"
      ]
     },
     "metadata": {},
     "output_type": "display_data"
    }
   ],
   "source": [
    "labels = pd.read_csv('BrainDataCT/hemorrhage-labels.csv')\n",
    "\n",
    "# pick rows that we have images for\n",
    "# types = ['brain_bone_window', 'brain_window', 'max_contrast_window', 'subdural_window']\n",
    "imageType = 'max_contrast_window'\n",
    "files = [file.split('/')[-1].split('.')[0] for file in glob(f'BrainDataCT/renders/**/{imageType}/*.jpg', recursive=True)]\n",
    "labels = labels.loc[labels.Image.isin(files)]\n",
    "display(labels)\n",
    "\n",
    "# filter out rows that have multiple labels\n",
    "labels = labels[labels['epidural'] + labels['intraparenchymal'] + labels['intraventricular'] + labels['subarachnoid'] + labels['subdural'] <= 1]\n",
    "display(labels)\n",
    "\n",
    "# take a random sample for local development\n",
    "labels = labels.sample(5000, random_state = 1)\n",
    "display(labels)"
   ]
  },
  {
   "cell_type": "code",
   "execution_count": 31,
   "metadata": {},
   "outputs": [
    {
     "data": {
      "text/plain": [
       "(array([ 518,   94,  918,  568,  959, 1943]), array([0, 1, 2, 3, 4, 5, 6]))"
      ]
     },
     "execution_count": 31,
     "metadata": {},
     "output_type": "execute_result"
    }
   ],
   "source": [
    "labelDict = {\n",
    "    'normal': 0,\n",
    "    'epidural': 1,\n",
    "    'intraparenchymal': 2,\n",
    "    'intraventricular': 3,\n",
    "    'subarachnoid': 4,\n",
    "    'subdural': 5\n",
    "}\n",
    "\n",
    "def getLabel(row):\n",
    "    return next((x for x in labelDict.keys() if x != 'normal' and row[x] == 1), 'normal')\n",
    "\n",
    "y = labels.apply(lambda row: labelDict.get(getLabel(row)), axis = 1)\n",
    "np.histogram(y, bins=[0, 1, 2, 3, 4, 5, 6])"
   ]
  },
  {
   "cell_type": "code",
   "execution_count": 32,
   "metadata": {},
   "outputs": [
    {
     "name": "stdout",
     "output_type": "stream",
     "text": [
      "importing 5000/5000\n",
      "Done\n"
     ]
    }
   ],
   "source": [
    "def importImages(labels, imageType):\n",
    "    total = len(labels);\n",
    "    pixels = 512 * 512\n",
    "    data = np.zeros([total, pixels])\n",
    "    for n, file_name in enumerate(labels.Image):\n",
    "        label = getLabel(labels[labels['Image'] == file_name].iloc[0])\n",
    "        print(f'importing {n + 1}/{total}', end='\\r')\n",
    "        try:\n",
    "            path = f'BrainDataCT/renders/{label}/{imageType}/{file_name}.jpg'\n",
    "            # select the first 512 * 512 pixels\n",
    "            img = np.mean(mpl.image.imread(path), axis=2).reshape(-1)[:pixels]\n",
    "            # pad with zeros up to 512 * 512 \n",
    "            data[n,:] = np.pad(img, (0, pixels - len(img)), 'constant')\n",
    "        except BaseException as err:\n",
    "            print(f'\\nFailed to import BrainDataCT/renders/{label}/{imageType}/{file_name}.jpg. {err}')\n",
    "    print('\\nDone')\n",
    "    return data\n",
    "\n",
    "originalImages = importImages(labels, imageType)"
   ]
  },
  {
   "cell_type": "code",
   "execution_count": 33,
   "metadata": {},
   "outputs": [],
   "source": [
    "DS = 16             \n",
    "im_size = int(512 * 512 / DS)\n",
    "data = np.zeros([len(labels), im_size])\n",
    "for n, file_name in enumerate(labels.Image):    \n",
    "    data[n,:] = originalImages[n][::DS]"
   ]
  },
  {
   "cell_type": "code",
   "execution_count": 34,
   "metadata": {},
   "outputs": [
    {
     "data": {
      "text/plain": [
       "<matplotlib.image.AxesImage at 0x7f8078888910>"
      ]
     },
     "execution_count": 34,
     "metadata": {},
     "output_type": "execute_result"
    },
    {
     "data": {
      "image/png": "[encoded data removed]",
      "text/plain": [
       "<Figure size 432x288 with 1 Axes>"
      ]
     },
     "metadata": {
      "needs_background": "light"
     },
     "output_type": "display_data"
    }
   ],
   "source": [
    "plt.imshow(originalImages[1].reshape(512, 512))"
   ]
  },
  {
   "cell_type": "code",
   "execution_count": 35,
   "metadata": {},
   "outputs": [
    {
     "data": {
      "text/plain": [
       "<matplotlib.image.AxesImage at 0x7f8074e1eb20>"
      ]
     },
     "execution_count": 35,
     "metadata": {},
     "output_type": "execute_result"
    },
    {
     "data": {
      "image/png": "[encoded data removed]",
      "text/plain": [
       "<Figure size 432x288 with 1 Axes>"
      ]
     },
     "metadata": {
      "needs_background": "light"
     },
     "output_type": "display_data"
    }
   ],
   "source": [
    "plt.imshow(data[1].reshape(128, 128))"
   ]
  },
  {
   "cell_type": "code",
   "execution_count": 36,
   "metadata": {},
   "outputs": [
    {
     "name": "stdout",
     "output_type": "stream",
     "text": [
      "(4000, 16384) (4000,)\n",
      "(1000, 16384) (1000,)\n"
     ]
    }
   ],
   "source": [
    "from sklearn.model_selection import train_test_split\n",
    "\n",
    "X_train, X_test, y_train, y_test = train_test_split(data, y, test_size=0.2, random_state=1)\n",
    "input_shape = X_train.shape[1]\n",
    "print(X_train.shape, y_train.shape)\n",
    "print(X_test.shape, y_test.shape)"
   ]
  },
  {
   "cell_type": "markdown",
   "metadata": {},
   "source": [
    "## Linear Regression Model"
   ]
  },
  {
   "cell_type": "code",
   "execution_count": null,
   "metadata": {},
   "outputs": [],
   "source": [
    "from sklearn.linear_model import LogisticRegression\n",
    "\n",
    "clf = LogisticRegression(solver='lbfgs', max_iter=1000)\n",
    "clf.fit(X_train[0:1000],y_train[0:1000])\n",
    "\n",
    "print(\"Logistic Regression Score: %.3f\"%clf.score(X_test,y_test))"
   ]
  },
  {
   "cell_type": "markdown",
   "metadata": {},
   "source": [
    "## Artificial Neural Network Model"
   ]
  },
  {
   "cell_type": "code",
   "execution_count": 934,
   "metadata": {},
   "outputs": [
    {
     "name": "stdout",
     "output_type": "stream",
     "text": [
      "Model: \"sequential\"\n",
      "_________________________________________________________________\n",
      " Layer (type)                Output Shape              Param #   \n",
      "=================================================================\n",
      " flatten (Flatten)           (None, 16384)             0         \n",
      "                                                                 \n",
      " dense (Dense)               (None, 500)               8192500   \n",
      "                                                                 \n",
      " dense_1 (Dense)             (None, 250)               125250    \n",
      "                                                                 \n",
      " dense_2 (Dense)             (None, 100)               25100     \n",
      "                                                                 \n",
      " dense_3 (Dense)             (None, 50)                5050      \n",
      "                                                                 \n",
      " dense_4 (Dense)             (None, 6)                 306       \n",
      "                                                                 \n",
      "=================================================================\n",
      "Total params: 8,348,206\n",
      "Trainable params: 8,348,206\n",
      "Non-trainable params: 0\n",
      "_________________________________________________________________\n"
     ]
    }
   ],
   "source": [
    "import tensorflow as tf\n",
    "from tensorflow import keras\n",
    "\n",
    "K = keras.backend\n",
    "\n",
    "class ExponentialLearningRate(keras.callbacks.Callback):\n",
    "    def __init__(self, factor):\n",
    "        self.factor = factor\n",
    "        self.rates = []\n",
    "        self.losses = []\n",
    "    def on_batch_end(self, batch, logs):\n",
    "        self.rates.append(K.get_value(self.model.optimizer.lr))\n",
    "        self.losses.append(logs[\"loss\"])\n",
    "        K.set_value(self.model.optimizer.lr, self.model.optimizer.lr * self.factor)\n",
    "        \n",
    "keras.backend.clear_session()\n",
    "np.random.seed(42)\n",
    "tf.random.set_seed(42)\n",
    "\n",
    "# TODO: Find best model\n",
    "model = keras.models.Sequential([\n",
    "    keras.layers.Flatten(input_shape=[input_shape]),\n",
    "    keras.layers.Dense(500, activation=\"relu\"),\n",
    "    keras.layers.Dense(250, activation=\"relu\"),\n",
    "    keras.layers.Dense(100, activation=\"relu\"),\n",
    "    keras.layers.Dense(50, activation=\"relu\"),\n",
    "    keras.layers.Dense(6, activation=\"softmax\")\n",
    "])\n",
    "\n",
    "model.summary()"
   ]
  },
  {
   "cell_type": "code",
   "execution_count": 935,
   "metadata": {},
   "outputs": [],
   "source": [
    "model.compile(loss=\"sparse_categorical_crossentropy\",\n",
    "              optimizer=keras.optimizers.SGD(learning_rate=1e-4),\n",
    "              metrics=[\"accuracy\"])"
   ]
  },
  {
   "cell_type": "markdown",
   "metadata": {},
   "source": [
    "### Training the Neural Network model"
   ]
  },
  {
   "cell_type": "code",
   "execution_count": 936,
   "metadata": {},
   "outputs": [
    {
     "name": "stdout",
     "output_type": "stream",
     "text": [
      "125/125 [==============================] - 4s 25ms/step - loss: 1475.1012 - accuracy: 0.2558 - val_loss: 1.7686 - val_accuracy: 0.4090\n"
     ]
    }
   ],
   "source": [
    "expon_lr = ExponentialLearningRate(factor=1.04)\n",
    "history = model.fit(X_train, y_train, \n",
    "                    epochs=1,\n",
    "                    validation_data=(X_test, y_test),\n",
    "                    callbacks=[expon_lr])"
   ]
  },
  {
   "cell_type": "code",
   "execution_count": 937,
   "metadata": {},
   "outputs": [
    {
     "data": {
      "text/plain": [
       "Text(0, 0.5, 'Loss')"
      ]
     },
     "execution_count": 937,
     "metadata": {},
     "output_type": "execute_result"
    },
    {
     "data": {
      "image/png": "[encoded data removed]",
      "text/plain": [
       "<Figure size 432x288 with 1 Axes>"
      ]
     },
     "metadata": {
      "needs_background": "light"
     },
     "output_type": "display_data"
    }
   ],
   "source": [
    "plt.plot(expon_lr.rates, expon_lr.losses)\n",
    "plt.gca().set_xscale('log')\n",
    "plt.hlines(min(expon_lr.losses), min(expon_lr.rates), max(expon_lr.rates))\n",
    "plt.axis([min(expon_lr.rates), max(expon_lr.rates), 0, expon_lr.losses[0]])\n",
    "plt.grid()\n",
    "plt.xlabel(\"Learning rate\")\n",
    "plt.ylabel(\"Loss\")"
   ]
  },
  {
   "cell_type": "code",
   "execution_count": 938,
   "metadata": {},
   "outputs": [
    {
     "data": {
      "text/plain": [
       "37.35354995727539"
      ]
     },
     "execution_count": 938,
     "metadata": {},
     "output_type": "execute_result"
    }
   ],
   "source": [
    "min(expon_lr.losses)"
   ]
  },
  {
   "cell_type": "code",
   "execution_count": 939,
   "metadata": {},
   "outputs": [
    {
     "data": {
      "text/plain": [
       "0.010231329"
      ]
     },
     "execution_count": 939,
     "metadata": {},
     "output_type": "execute_result"
    }
   ],
   "source": [
    "expon_lr.rates[np.argmin(expon_lr.losses)]"
   ]
  },
  {
   "cell_type": "code",
   "execution_count": 942,
   "metadata": {},
   "outputs": [
    {
     "name": "stdout",
     "output_type": "stream",
     "text": [
      "Epoch 1/30\n",
      "500/500 [==============================] - 9s 17ms/step - loss: 43.0214 - accuracy: 0.3495 - val_loss: 1.5458 - val_accuracy: 0.4110\n",
      "Epoch 2/30\n",
      "500/500 [==============================] - 8s 15ms/step - loss: 1.6159 - accuracy: 0.3765 - val_loss: 1.5813 - val_accuracy: 0.4110\n",
      "Epoch 3/30\n",
      "500/500 [==============================] - 7s 15ms/step - loss: 1.5673 - accuracy: 0.3835 - val_loss: 1.5177 - val_accuracy: 0.4130\n",
      "Epoch 4/30\n",
      "500/500 [==============================] - 8s 15ms/step - loss: 1.5565 - accuracy: 0.3877 - val_loss: 1.5109 - val_accuracy: 0.4150\n",
      "Epoch 5/30\n",
      "500/500 [==============================] - 8s 16ms/step - loss: 1.5357 - accuracy: 0.3893 - val_loss: 1.5098 - val_accuracy: 0.4140\n",
      "Epoch 6/30\n",
      "500/500 [==============================] - 9s 17ms/step - loss: 1.5236 - accuracy: 0.3945 - val_loss: 1.4928 - val_accuracy: 0.4150\n",
      "Epoch 7/30\n",
      "500/500 [==============================] - 7s 14ms/step - loss: 1.5194 - accuracy: 0.3915 - val_loss: 1.5092 - val_accuracy: 0.4080\n",
      "Epoch 8/30\n",
      "500/500 [==============================] - 7s 14ms/step - loss: 1.5188 - accuracy: 0.3920 - val_loss: 1.4944 - val_accuracy: 0.4130\n",
      "Epoch 9/30\n",
      "500/500 [==============================] - 7s 14ms/step - loss: 1.5110 - accuracy: 0.3898 - val_loss: 1.5208 - val_accuracy: 0.4110\n",
      "Epoch 10/30\n",
      "500/500 [==============================] - 7s 15ms/step - loss: 1.5074 - accuracy: 0.3945 - val_loss: 1.4893 - val_accuracy: 0.4110\n",
      "Epoch 11/30\n",
      "500/500 [==============================] - 9s 18ms/step - loss: 1.4993 - accuracy: 0.3960 - val_loss: 1.4868 - val_accuracy: 0.4140\n",
      "Epoch 12/30\n",
      "500/500 [==============================] - 12s 24ms/step - loss: 1.5097 - accuracy: 0.3935 - val_loss: 1.5019 - val_accuracy: 0.4100\n",
      "Epoch 13/30\n",
      "500/500 [==============================] - 9s 19ms/step - loss: 1.4936 - accuracy: 0.3955 - val_loss: 1.4805 - val_accuracy: 0.4100\n",
      "Epoch 14/30\n",
      "500/500 [==============================] - 7s 15ms/step - loss: 1.4869 - accuracy: 0.3975 - val_loss: 1.4925 - val_accuracy: 0.4140\n",
      "Epoch 15/30\n",
      "500/500 [==============================] - 7s 15ms/step - loss: 1.4867 - accuracy: 0.3993 - val_loss: 1.4780 - val_accuracy: 0.4160\n",
      "Epoch 16/30\n",
      "500/500 [==============================] - 7s 14ms/step - loss: 1.4823 - accuracy: 0.4005 - val_loss: 1.4925 - val_accuracy: 0.4160\n",
      "Epoch 17/30\n",
      "500/500 [==============================] - 6s 13ms/step - loss: 1.4814 - accuracy: 0.4005 - val_loss: 1.5016 - val_accuracy: 0.4120\n",
      "Epoch 18/30\n",
      "500/500 [==============================] - 8s 16ms/step - loss: 1.4645 - accuracy: 0.4067 - val_loss: 1.5037 - val_accuracy: 0.4140\n",
      "Epoch 19/30\n",
      "500/500 [==============================] - 10s 20ms/step - loss: 1.4654 - accuracy: 0.4045 - val_loss: 1.4797 - val_accuracy: 0.4170\n",
      "Epoch 20/30\n",
      "500/500 [==============================] - 10s 19ms/step - loss: 1.4636 - accuracy: 0.4080 - val_loss: 1.4819 - val_accuracy: 0.4150\n",
      "Epoch 21/30\n",
      "500/500 [==============================] - 8s 15ms/step - loss: 1.4680 - accuracy: 0.4045 - val_loss: 1.5266 - val_accuracy: 0.3940\n",
      "Epoch 22/30\n",
      "500/500 [==============================] - 7s 15ms/step - loss: 1.4585 - accuracy: 0.4065 - val_loss: 1.4777 - val_accuracy: 0.4180\n",
      "Epoch 23/30\n",
      "500/500 [==============================] - 7s 15ms/step - loss: 1.4532 - accuracy: 0.4117 - val_loss: 1.4794 - val_accuracy: 0.4180\n",
      "Epoch 24/30\n",
      "500/500 [==============================] - 8s 16ms/step - loss: 1.4510 - accuracy: 0.4115 - val_loss: 1.4742 - val_accuracy: 0.4170\n",
      "Epoch 25/30\n",
      "500/500 [==============================] - 8s 16ms/step - loss: 1.4428 - accuracy: 0.4170 - val_loss: 1.5141 - val_accuracy: 0.4170\n",
      "Epoch 26/30\n",
      "500/500 [==============================] - 7s 14ms/step - loss: 1.4438 - accuracy: 0.4145 - val_loss: 1.4882 - val_accuracy: 0.4140\n",
      "Epoch 27/30\n",
      "500/500 [==============================] - 8s 16ms/step - loss: 1.4386 - accuracy: 0.4212 - val_loss: 1.4686 - val_accuracy: 0.4190\n",
      "Epoch 28/30\n",
      "500/500 [==============================] - 9s 17ms/step - loss: 1.4342 - accuracy: 0.4185 - val_loss: 1.5075 - val_accuracy: 0.4180\n",
      "Epoch 29/30\n",
      "500/500 [==============================] - 8s 17ms/step - loss: 1.4322 - accuracy: 0.4223 - val_loss: 1.4671 - val_accuracy: 0.4250\n",
      "Epoch 30/30\n",
      "500/500 [==============================] - 8s 16ms/step - loss: 1.4294 - accuracy: 0.4245 - val_loss: 1.4874 - val_accuracy: 0.4150\n"
     ]
    }
   ],
   "source": [
    "keras.backend.clear_session()\n",
    "np.random.seed(42)\n",
    "tf.random.set_seed(42)\n",
    "\n",
    "# TODO: Find the best model\n",
    "\n",
    "# Result with 2e-4: loss: 1.3220 - accuracy: 0.4645 - val_loss: 1.5019 - val_accuracy: 0.4300\n",
    "model = keras.models.Sequential([\n",
    "    keras.layers.Flatten(input_shape=[input_shape]),\n",
    "    keras.layers.Dense(500, activation=\"relu\"),\n",
    "    keras.layers.Dense(250, activation=\"relu\"),\n",
    "    keras.layers.Dense(100, activation=\"relu\"),\n",
    "    keras.layers.Dense(50, activation=\"relu\"),\n",
    "    keras.layers.Dense(6, activation=\"softmax\")\n",
    "])\n",
    "\n",
    "model.compile(loss=\"sparse_categorical_crossentropy\",\n",
    "              optimizer=keras.optimizers.SGD(learning_rate=2e-4),\n",
    "              metrics=[\"accuracy\"])\n",
    "history = model.fit(X_train, y_train, batch_size=8, epochs=30,\n",
    "                    validation_data=(X_test, y_test))"
   ]
  },
  {
   "cell_type": "code",
   "execution_count": 904,
   "metadata": {},
   "outputs": [
    {
     "name": "stdout",
     "output_type": "stream",
     "text": [
      "32/32 [==============================] - 1s 9ms/step - loss: 1.5019 - accuracy: 0.4300\n"
     ]
    },
    {
     "data": {
      "text/plain": [
       "[1.5019190311431885, 0.4300000071525574]"
      ]
     },
     "execution_count": 904,
     "metadata": {},
     "output_type": "execute_result"
    }
   ],
   "source": [
    "model.evaluate(X_test, y_test)"
   ]
  },
  {
   "cell_type": "markdown",
   "metadata": {},
   "source": [
    "## Convoluted Neural Network Model"
   ]
  },
  {
   "cell_type": "code",
   "execution_count": null,
   "metadata": {},
   "outputs": [],
   "source": [
    "## We have to add an extra dimension to allow for the multiple images we will be creating\n",
    "X_train = X_train.reshape(-1, input_shape, 1)\n",
    "X_test = X_test.reshape(-1, input_shape, 1)\n",
    "\n",
    "Y_train = np_utils.to_categorical(y_train, len(labelDict.keys()))\n",
    "Y_test = np_utils.to_categorical(y_test, len(labelDict.keys()))"
   ]
  },
  {
   "cell_type": "code",
   "execution_count": null,
   "metadata": {},
   "outputs": [],
   "source": [
    "keras.backend.clear_session()\n",
    "np.random.seed(42)\n",
    "tf.random.set_seed(42)\n",
    "\n",
    "model = Sequential()\n",
    "model.add(Conv2D(32, (7, 7),\n",
    "                 padding='valid',\n",
    "                 input_shape=(input_shape,1),\n",
    "                 activation='relu'))\n",
    "model.add(MaxPooling2D(pool_size=(2,2)))\n",
    "model.add(Conv2D(32, (3,3),\n",
    "                 activation='relu'))\n",
    "model.add(MaxPooling2D(pool_size=(2,2)))\n",
    "model.add(Dropout(0.25))\n",
    " \n",
    "model.add(Flatten())\n",
    "model.add(Dense(units=128, activation='relu'))\n",
    "model.add(Dropout(0.5))\n",
    "model.add(Dense(units=len(labelDict.keys()), activation='softmax'))\n",
    "model.summary()"
   ]
  },
  {
   "cell_type": "code",
   "execution_count": null,
   "metadata": {},
   "outputs": [],
   "source": [
    "model.compile(loss='categorical_crossentropy',\n",
    "              optimizer='rmsprop',\n",
    "              metrics=['accuracy'])"
   ]
  },
  {
   "cell_type": "code",
   "execution_count": null,
   "metadata": {},
   "outputs": [],
   "source": [
    "epochs = 5\n",
    "history = model.fit(X_train, \n",
    "                    Y_train, \n",
    "                    epochs=epochs, \n",
    "                    batch_size=128,\n",
    "                    verbose=1,\n",
    "                    validation_data=(X_test, Y_test))"
   ]
  }
 ],
 "metadata": {
  "kernelspec": {
   "display_name": "Python 3",
   "language": "python",
   "name": "python3"
  },
  "language_info": {
   "codemirror_mode": {
    "name": "ipython",
    "version": 3
   },
   "file_extension": ".py",
   "mimetype": "text/x-python",
   "name": "python",
   "nbconvert_exporter": "python",
   "pygments_lexer": "ipython3",
   "version": "3.8.3"
  }
 },
 "nbformat": 4,
 "nbformat_minor": 4
}
